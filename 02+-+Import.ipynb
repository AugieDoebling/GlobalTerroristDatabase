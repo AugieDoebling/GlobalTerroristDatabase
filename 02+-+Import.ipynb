{
 "cells": [
  {
   "cell_type": "markdown",
   "metadata": {},
   "source": [
    "# Importing Data\n",
    "This notebook might just be the most exciting one! We will import our data and save it into a pickle file for import through the rest of our project."
   ]
  },
  {
   "cell_type": "code",
   "execution_count": 1,
   "metadata": {
    "collapsed": false
   },
   "outputs": [],
   "source": [
    "import pandas as pd\n",
    "import numpy as np\n",
    "import datetime as dt"
   ]
  },
  {
   "cell_type": "code",
   "execution_count": 2,
   "metadata": {
    "collapsed": false
   },
   "outputs": [],
   "source": [
    "path = !ls /data/augiedoebling/*.csv"
   ]
  },
  {
   "cell_type": "code",
   "execution_count": 3,
   "metadata": {
    "collapsed": false
   },
   "outputs": [
    {
     "data": {
      "text/html": [
       "<div>\n",
       "<table border=\"1\" class=\"dataframe\">\n",
       "  <thead>\n",
       "    <tr style=\"text-align: right;\">\n",
       "      <th></th>\n",
       "      <th>eventid</th>\n",
       "      <th>iyear</th>\n",
       "      <th>imonth</th>\n",
       "      <th>iday</th>\n",
       "      <th>approxdate</th>\n",
       "      <th>extended</th>\n",
       "      <th>resolution</th>\n",
       "      <th>country</th>\n",
       "      <th>country_txt</th>\n",
       "      <th>region</th>\n",
       "      <th>...</th>\n",
       "      <th>addnotes</th>\n",
       "      <th>scite1</th>\n",
       "      <th>scite2</th>\n",
       "      <th>scite3</th>\n",
       "      <th>dbsource</th>\n",
       "      <th>INT_LOG</th>\n",
       "      <th>INT_IDEO</th>\n",
       "      <th>INT_MISC</th>\n",
       "      <th>INT_ANY</th>\n",
       "      <th>related</th>\n",
       "    </tr>\n",
       "  </thead>\n",
       "  <tbody>\n",
       "    <tr>\n",
       "      <th>0</th>\n",
       "      <td>197000000001</td>\n",
       "      <td>1970</td>\n",
       "      <td>0</td>\n",
       "      <td>0</td>\n",
       "      <td>NaN</td>\n",
       "      <td>0</td>\n",
       "      <td>NaN</td>\n",
       "      <td>58</td>\n",
       "      <td>Dominican Republic</td>\n",
       "      <td>2</td>\n",
       "      <td>...</td>\n",
       "      <td>NaN</td>\n",
       "      <td>NaN</td>\n",
       "      <td>NaN</td>\n",
       "      <td>NaN</td>\n",
       "      <td>PGIS</td>\n",
       "      <td>0</td>\n",
       "      <td>0</td>\n",
       "      <td>0</td>\n",
       "      <td>0</td>\n",
       "      <td>NaN</td>\n",
       "    </tr>\n",
       "    <tr>\n",
       "      <th>1</th>\n",
       "      <td>197000000002</td>\n",
       "      <td>1970</td>\n",
       "      <td>0</td>\n",
       "      <td>0</td>\n",
       "      <td>NaN</td>\n",
       "      <td>0</td>\n",
       "      <td>NaN</td>\n",
       "      <td>130</td>\n",
       "      <td>Mexico</td>\n",
       "      <td>1</td>\n",
       "      <td>...</td>\n",
       "      <td>NaN</td>\n",
       "      <td>NaN</td>\n",
       "      <td>NaN</td>\n",
       "      <td>NaN</td>\n",
       "      <td>PGIS</td>\n",
       "      <td>0</td>\n",
       "      <td>1</td>\n",
       "      <td>1</td>\n",
       "      <td>1</td>\n",
       "      <td>NaN</td>\n",
       "    </tr>\n",
       "    <tr>\n",
       "      <th>2</th>\n",
       "      <td>197001000001</td>\n",
       "      <td>1970</td>\n",
       "      <td>1</td>\n",
       "      <td>0</td>\n",
       "      <td>NaN</td>\n",
       "      <td>0</td>\n",
       "      <td>NaN</td>\n",
       "      <td>160</td>\n",
       "      <td>Philippines</td>\n",
       "      <td>5</td>\n",
       "      <td>...</td>\n",
       "      <td>NaN</td>\n",
       "      <td>NaN</td>\n",
       "      <td>NaN</td>\n",
       "      <td>NaN</td>\n",
       "      <td>PGIS</td>\n",
       "      <td>-9</td>\n",
       "      <td>-9</td>\n",
       "      <td>1</td>\n",
       "      <td>1</td>\n",
       "      <td>NaN</td>\n",
       "    </tr>\n",
       "    <tr>\n",
       "      <th>3</th>\n",
       "      <td>197001000002</td>\n",
       "      <td>1970</td>\n",
       "      <td>1</td>\n",
       "      <td>0</td>\n",
       "      <td>NaN</td>\n",
       "      <td>0</td>\n",
       "      <td>NaN</td>\n",
       "      <td>78</td>\n",
       "      <td>Greece</td>\n",
       "      <td>8</td>\n",
       "      <td>...</td>\n",
       "      <td>NaN</td>\n",
       "      <td>NaN</td>\n",
       "      <td>NaN</td>\n",
       "      <td>NaN</td>\n",
       "      <td>PGIS</td>\n",
       "      <td>-9</td>\n",
       "      <td>-9</td>\n",
       "      <td>1</td>\n",
       "      <td>1</td>\n",
       "      <td>NaN</td>\n",
       "    </tr>\n",
       "    <tr>\n",
       "      <th>4</th>\n",
       "      <td>197001000003</td>\n",
       "      <td>1970</td>\n",
       "      <td>1</td>\n",
       "      <td>0</td>\n",
       "      <td>NaN</td>\n",
       "      <td>0</td>\n",
       "      <td>NaN</td>\n",
       "      <td>101</td>\n",
       "      <td>Japan</td>\n",
       "      <td>4</td>\n",
       "      <td>...</td>\n",
       "      <td>NaN</td>\n",
       "      <td>NaN</td>\n",
       "      <td>NaN</td>\n",
       "      <td>NaN</td>\n",
       "      <td>PGIS</td>\n",
       "      <td>-9</td>\n",
       "      <td>-9</td>\n",
       "      <td>1</td>\n",
       "      <td>1</td>\n",
       "      <td>NaN</td>\n",
       "    </tr>\n",
       "  </tbody>\n",
       "</table>\n",
       "<p>5 rows × 137 columns</p>\n",
       "</div>"
      ],
      "text/plain": [
       "        eventid  iyear  imonth  iday approxdate  extended resolution  country  \\\n",
       "0  197000000001   1970       0     0        NaN         0        NaN       58   \n",
       "1  197000000002   1970       0     0        NaN         0        NaN      130   \n",
       "2  197001000001   1970       1     0        NaN         0        NaN      160   \n",
       "3  197001000002   1970       1     0        NaN         0        NaN       78   \n",
       "4  197001000003   1970       1     0        NaN         0        NaN      101   \n",
       "\n",
       "          country_txt  region   ...    addnotes scite1 scite2  scite3  \\\n",
       "0  Dominican Republic       2   ...         NaN    NaN    NaN     NaN   \n",
       "1              Mexico       1   ...         NaN    NaN    NaN     NaN   \n",
       "2         Philippines       5   ...         NaN    NaN    NaN     NaN   \n",
       "3              Greece       8   ...         NaN    NaN    NaN     NaN   \n",
       "4               Japan       4   ...         NaN    NaN    NaN     NaN   \n",
       "\n",
       "   dbsource  INT_LOG  INT_IDEO INT_MISC INT_ANY  related  \n",
       "0      PGIS        0         0        0       0      NaN  \n",
       "1      PGIS        0         1        1       1      NaN  \n",
       "2      PGIS       -9        -9        1       1      NaN  \n",
       "3      PGIS       -9        -9        1       1      NaN  \n",
       "4      PGIS       -9        -9        1       1      NaN  \n",
       "\n",
       "[5 rows x 137 columns]"
      ]
     },
     "execution_count": 3,
     "metadata": {},
     "output_type": "execute_result"
    }
   ],
   "source": [
    "fulldata = pd.read_csv(path[0] , low_memory=False, encoding='ISO-8859-1')\n",
    "fulldata.head()"
   ]
  },
  {
   "cell_type": "code",
   "execution_count": 4,
   "metadata": {
    "collapsed": false
   },
   "outputs": [
    {
     "data": {
      "text/plain": [
       "156772"
      ]
     },
     "execution_count": 4,
     "metadata": {},
     "output_type": "execute_result"
    }
   ],
   "source": [
    "len(fulldata)"
   ]
  },
  {
   "cell_type": "markdown",
   "metadata": {},
   "source": [
    "While there are 137 columns in this data set, the follow table shows the columns I will use for this project. Each column is either a direct or transformed column from the original data."
   ]
  },
  {
   "cell_type": "markdown",
   "metadata": {},
   "source": [
    "<table>\n",
    "  <tr>\n",
    "    <th>id</th>\n",
    "    <th>date</th>\n",
    "    <th>country</th>\n",
    "    <th>region</th>\n",
    "    <th>region code</th>\n",
    "    <th>city</th>\n",
    "    <th>lat</th>\n",
    "    <th>long</th>\n",
    "    <th>summary</th>\n",
    "    <th>PERS</th>\n",
    "    <th>CIP</th>\n",
    "    <th>outsidehumlaw</th>\n",
    "    <th>doubt</th>\n",
    "    <th>alternative</th>\n",
    "    <th>mulitple</th>\n",
    "    <th>success</th>\n",
    "    <th>suicide</th>\n",
    "    <th>type</th>\n",
    "    <th>nat1</th>\n",
    "    <th>nat2</th>\n",
    "    <th>nat3</th>\n",
    "    <th>group</th>\n",
    "    <th>attackercount</th>\n",
    "    <th>claimed</th>\n",
    "    <th>weapon</th>\n",
    "    <th>fatalities</th>\n",
    "    <th>fatalitiesus</th>\n",
    "    <th>wounded</th>\n",
    "    <th>woundedus</th>\n",
    "    <th>propdamage</th>\n",
    "    <th>propvalue</th>\n",
    "    <th>hostkid</th>\n",
    "    <th>international</th>\n",
    "    <th>related</th>\n",
    "    <th>inUS_yes</th>\n",
    "    <th>byUScit_yes</th>\n",
    "  </tr>\n",
    "  <tr>\n",
    "    <td>unique date-based identifier</td>\n",
    "    <td>date event began</td>\n",
    "    <td>country of location</td>\n",
    "    <td>region of location</td>\n",
    "    <td>numeric coding of region</td>\n",
    "    <td>city of location</td>\n",
    "    <td>lattitude of location</td>\n",
    "    <td>longitude of location</td>\n",
    "    <td>summary of the attack</td>\n",
    "    <td>Was the attack's goal Political, Economic, Religious or Social?</td>\n",
    "    <td>Was the attacks goal to Coerse, Intimidate or Publicize to an audience?</td>\n",
    "    <td>Was the attack outside the context of legitimate warfare activities?</td>\n",
    "    <td>Is there any doubt the attack was an act of terrorism</td>\n",
    "    <td>Other possible reason if there is doubt</td>\n",
    "    <td>If the attack is a multiple-incident event</td>\n",
    "    <td>Was the attack successful</td>\n",
    "    <td>Was the attack a suicide attack</td>\n",
    "    <td>The type of attack the incident was (could be multiple)</td>\n",
    "    <td>Nationality of the attacker(s), could be mulitple</td>\n",
    "    <td>Nationality of the attacker(s), could be mulitple</td>\n",
    "    <td>Nationality of the attacker(s), could be mulitple</td>\n",
    "    <td>Name of group carrying out the account</td>\n",
    "    <td>Number of terrorists participating</td>\n",
    "    <td>Whether resposibility was claimed</td>\n",
    "    <td>Type of weapon used to carry out the attack, could be mulitple</td>\n",
    "    <td>Number of total confirmed fatalities for the attack</td>\n",
    "    <td>Number of confirmed fatalities for the attack who were US citizens</td>\n",
    "    <td>Number of total injured for the attack</td>\n",
    "    <td>Number of total injured for the attack who were US citizens</td>\n",
    "    <td>Was there property damage</td>\n",
    "    <td>How much was the property worth at the time of attack</td>\n",
    "    <td>Were their victims taken hostage or kidnapped</td>\n",
    "    <td>Was the attack planned outside of the country it took place</td>\n",
    "    <td>IDs of any attacks that were related</td>\n",
    "    <td>Hot encoding if the attack took place in the US</td>\n",
    "    <td>Hot encoding if a US national was involved in the attack</td>\n",
    "  </tr>\n",
    "</table>"
   ]
  },
  {
   "cell_type": "code",
   "execution_count": 5,
   "metadata": {
    "collapsed": true
   },
   "outputs": [],
   "source": [
    "data = pd.DataFrame()"
   ]
  },
  {
   "cell_type": "code",
   "execution_count": 6,
   "metadata": {
    "collapsed": false
   },
   "outputs": [],
   "source": [
    "data['id'] = fulldata['eventid']"
   ]
  },
  {
   "cell_type": "code",
   "execution_count": 7,
   "metadata": {
    "collapsed": false
   },
   "outputs": [],
   "source": [
    "assert np.nan not in data.id.unique()\n",
    "assert 0 not in data.id.unique()"
   ]
  },
  {
   "cell_type": "code",
   "execution_count": 8,
   "metadata": {
    "collapsed": false
   },
   "outputs": [],
   "source": [
    "fulldata['imonth'] = fulldata['imonth'].replace(0, 1)\n",
    "fulldata['iday'] = fulldata['iday'].replace(0, 1)"
   ]
  },
  {
   "cell_type": "code",
   "execution_count": 9,
   "metadata": {
    "collapsed": false
   },
   "outputs": [],
   "source": [
    "data['date'] = pd.to_datetime((fulldata.iyear*10000+fulldata.imonth*100+fulldata.iday).apply(str),format='%Y%m%d')"
   ]
  },
  {
   "cell_type": "code",
   "execution_count": 10,
   "metadata": {
    "collapsed": false
   },
   "outputs": [],
   "source": [
    "assert data.date.min().year >= 1970\n",
    "assert data.date.max().year <= 2015"
   ]
  },
  {
   "cell_type": "code",
   "execution_count": 11,
   "metadata": {
    "collapsed": true
   },
   "outputs": [],
   "source": [
    "data['country'] = fulldata['country_txt']"
   ]
  },
  {
   "cell_type": "code",
   "execution_count": 12,
   "metadata": {
    "collapsed": false
   },
   "outputs": [],
   "source": [
    "assert np.nan not in data.country.unique()\n",
    "assert \"\" not in data.country.unique()"
   ]
  },
  {
   "cell_type": "code",
   "execution_count": 13,
   "metadata": {
    "collapsed": true
   },
   "outputs": [],
   "source": [
    "data['region'] = fulldata['region_txt']\n",
    "data['region_code'] = fulldata['region']"
   ]
  },
  {
   "cell_type": "code",
   "execution_count": 14,
   "metadata": {
    "collapsed": false
   },
   "outputs": [],
   "source": [
    "assert np.nan not in data.region.unique()\n",
    "assert \"\" not in data.region.unique()\n",
    "assert np.nan not in data.region_code.unique()"
   ]
  },
  {
   "cell_type": "code",
   "execution_count": 15,
   "metadata": {
    "collapsed": false
   },
   "outputs": [],
   "source": [
    "data['city'] = fulldata['city']"
   ]
  },
  {
   "cell_type": "code",
   "execution_count": 16,
   "metadata": {
    "collapsed": true
   },
   "outputs": [],
   "source": [
    "assert np.nan not in data.city.unique()\n",
    "assert \"\" not in data.city.unique()"
   ]
  },
  {
   "cell_type": "code",
   "execution_count": 17,
   "metadata": {
    "collapsed": true
   },
   "outputs": [],
   "source": [
    "data['lat'] = fulldata['latitude']"
   ]
  },
  {
   "cell_type": "code",
   "execution_count": 18,
   "metadata": {
    "collapsed": true
   },
   "outputs": [],
   "source": [
    "data['long'] = fulldata['longitude']"
   ]
  },
  {
   "cell_type": "code",
   "execution_count": 19,
   "metadata": {
    "collapsed": false
   },
   "outputs": [],
   "source": [
    "assert np.nan not in data.lat.unique()\n",
    "assert np.nan not in data.long.unique()"
   ]
  },
  {
   "cell_type": "code",
   "execution_count": 20,
   "metadata": {
    "collapsed": false
   },
   "outputs": [],
   "source": [
    "data['summary'] = fulldata['summary']"
   ]
  },
  {
   "cell_type": "code",
   "execution_count": 21,
   "metadata": {
    "collapsed": true
   },
   "outputs": [],
   "source": [
    "assert np.nan not in data.summary.unique()\n",
    "assert \"\" not in data.summary.unique()"
   ]
  },
  {
   "cell_type": "code",
   "execution_count": 22,
   "metadata": {
    "collapsed": true
   },
   "outputs": [],
   "source": [
    "data['PERS'] = fulldata['crit1']\n",
    "data['CIP'] = fulldata['crit2']\n",
    "data['outsidehumlaw'] = fulldata['crit3']"
   ]
  },
  {
   "cell_type": "code",
   "execution_count": 23,
   "metadata": {
    "collapsed": true
   },
   "outputs": [],
   "source": [
    "assert np.nan not in data.PERS.unique()\n",
    "assert np.nan not in data.CIP.unique()\n",
    "assert np.nan not in data.outsidehumlaw.unique()"
   ]
  },
  {
   "cell_type": "code",
   "execution_count": 24,
   "metadata": {
    "collapsed": false
   },
   "outputs": [],
   "source": [
    "data['doubt'] = fulldata['doubtterr'].replace(-9, np.nan)"
   ]
  },
  {
   "cell_type": "code",
   "execution_count": 25,
   "metadata": {
    "collapsed": true
   },
   "outputs": [],
   "source": [
    "assert -9 not in data.doubt.unique()"
   ]
  },
  {
   "cell_type": "code",
   "execution_count": 26,
   "metadata": {
    "collapsed": false
   },
   "outputs": [],
   "source": [
    "data['alternative'] = fulldata['alternative_txt'].replace('.', np.nan)\n",
    "assert '.' not in data.alternative.unique()\n",
    "assert '' not in data.alternative.unique()\n",
    "assert np.nan not in data.alternative.unique()"
   ]
  },
  {
   "cell_type": "code",
   "execution_count": 27,
   "metadata": {
    "collapsed": false
   },
   "outputs": [],
   "source": [
    "data['multiple'] = fulldata['multiple']\n",
    "assert [0, 1] == list(data.multiple.unique())"
   ]
  },
  {
   "cell_type": "code",
   "execution_count": 28,
   "metadata": {
    "collapsed": false
   },
   "outputs": [],
   "source": [
    "data['success'] = fulldata['success']\n",
    "assert [1, 0] == list(data.success.unique())"
   ]
  },
  {
   "cell_type": "code",
   "execution_count": 29,
   "metadata": {
    "collapsed": false
   },
   "outputs": [],
   "source": [
    "data['suicide'] = fulldata['suicide']\n",
    "assert [0, 1] == list(data.suicide.unique())"
   ]
  },
  {
   "cell_type": "code",
   "execution_count": 30,
   "metadata": {
    "collapsed": false
   },
   "outputs": [],
   "source": [
    "data['type'] = fulldata['attacktype1_txt'].replace('.', np.nan)\n",
    "assert '.' not in data.type.unique()\n",
    "assert '' not in data.type.unique()\n",
    "assert np.nan not in data.type.unique()"
   ]
  },
  {
   "cell_type": "code",
   "execution_count": 31,
   "metadata": {
    "collapsed": false
   },
   "outputs": [],
   "source": [
    "data['nat1'] = fulldata['natlty1_txt'].replace('.', np.nan)\n",
    "data['nat2'] = fulldata['natlty2_txt'].replace('.', np.nan)\n",
    "data['nat3'] = fulldata['natlty3_txt'].replace('.', np.nan)\n",
    "\n",
    "assert '.' not in data.nat1.unique()\n",
    "assert '' not in data.nat1.unique()\n",
    "assert np.nan not in data.nat1.unique()\n",
    "assert '.' not in data.nat2.unique()\n",
    "assert '' not in data.nat2.unique()\n",
    "assert np.nan not in data.nat2.unique()\n",
    "assert '.' not in data.nat3.unique()\n",
    "assert '' not in data.nat3.unique()\n",
    "assert np.nan not in data.nat3.unique()"
   ]
  },
  {
   "cell_type": "code",
   "execution_count": 32,
   "metadata": {
    "collapsed": false
   },
   "outputs": [],
   "source": [
    "data['group'] = fulldata['gname']\n",
    "\n",
    "assert '.' not in data.group.unique()\n",
    "assert '' not in data.group.unique()\n",
    "assert np.nan not in data.group.unique()"
   ]
  },
  {
   "cell_type": "code",
   "execution_count": 33,
   "metadata": {
    "collapsed": false
   },
   "outputs": [],
   "source": [
    "data['attackercount'] = fulldata['nperps'].replace([-9, -99], np.nan)\n",
    "assert -9 not in data.attackercount.unique()\n",
    "assert -99 not in data.attackercount.unique()"
   ]
  },
  {
   "cell_type": "code",
   "execution_count": 34,
   "metadata": {
    "collapsed": false
   },
   "outputs": [],
   "source": [
    "data['claimed'] = fulldata['claimed'].replace(-9, np.nan)\n",
    "assert -9 not in data.claimed.unique()"
   ]
  },
  {
   "cell_type": "code",
   "execution_count": 35,
   "metadata": {
    "collapsed": false
   },
   "outputs": [],
   "source": [
    "data['weapon'] = fulldata['weaptype1_txt'].replace(['.', 'Unknown'], np.nan)\n",
    "assert '.' not in data.weapon.unique()\n",
    "assert '' not in data.weapon.unique()"
   ]
  },
  {
   "cell_type": "code",
   "execution_count": 36,
   "metadata": {
    "collapsed": false
   },
   "outputs": [],
   "source": [
    "data['fatalities'] = fulldata['nkill'].fillna(0)\n",
    "assert np.nan not in data.fatalities.unique()\n",
    "assert -9 not in data.fatalities.unique()\n",
    "assert -99 not in data.fatalities.unique()"
   ]
  },
  {
   "cell_type": "code",
   "execution_count": 37,
   "metadata": {
    "collapsed": true
   },
   "outputs": [],
   "source": [
    "data['fatalitiesus'] = fulldata['nkillus'].fillna(0)\n",
    "assert np.nan not in data.fatalitiesus.unique()\n",
    "assert -9 not in data.fatalitiesus.unique()\n",
    "assert -99 not in data.fatalitiesus.unique()"
   ]
  },
  {
   "cell_type": "code",
   "execution_count": 38,
   "metadata": {
    "collapsed": true
   },
   "outputs": [],
   "source": [
    "data['wounded'] = fulldata['nwound'].fillna(0)\n",
    "assert np.nan not in data.wounded.unique()\n",
    "assert -9 not in data.wounded.unique()\n",
    "assert -99 not in data.wounded.unique()"
   ]
  },
  {
   "cell_type": "code",
   "execution_count": 39,
   "metadata": {
    "collapsed": true
   },
   "outputs": [],
   "source": [
    "data['woundedus'] = fulldata['nwoundus'].fillna(0)\n",
    "assert np.nan not in data.woundedus.unique()\n",
    "assert -9 not in data.woundedus.unique()\n",
    "assert -99 not in data.woundedus.unique()"
   ]
  },
  {
   "cell_type": "code",
   "execution_count": 40,
   "metadata": {
    "collapsed": false
   },
   "outputs": [],
   "source": [
    "data['propdamage'] = fulldata['property'].replace(-9, np.nan)\n",
    "assert -9 not in data.propdamage.unique()"
   ]
  },
  {
   "cell_type": "code",
   "execution_count": 41,
   "metadata": {
    "collapsed": false
   },
   "outputs": [],
   "source": [
    "data['propvalue'] = fulldata['propvalue'].fillna(0).replace(-9, 0)\n",
    "assert -9 not in data.propvalue.unique()\n",
    "assert np.nan not in data.propvalue.unique()"
   ]
  },
  {
   "cell_type": "code",
   "execution_count": 42,
   "metadata": {
    "collapsed": false
   },
   "outputs": [],
   "source": [
    "data['hostkid'] = fulldata['ishostkid'].replace(-9, np.nan)\n",
    "assert -9 not in data.hostkid.unique()\n",
    "assert 3 == len(data.hostkid.unique())"
   ]
  },
  {
   "cell_type": "code",
   "execution_count": 43,
   "metadata": {
    "collapsed": false
   },
   "outputs": [],
   "source": [
    "data['international'] = fulldata['INT_ANY'].replace(-9, np.nan)\n",
    "assert 3 == len(data.international.unique())"
   ]
  },
  {
   "cell_type": "code",
   "execution_count": 44,
   "metadata": {
    "collapsed": false
   },
   "outputs": [],
   "source": [
    "data['related'] = fulldata['related'].str.split(', ')"
   ]
  },
  {
   "cell_type": "code",
   "execution_count": 45,
   "metadata": {
    "collapsed": false
   },
   "outputs": [],
   "source": [
    "# US country code = 217\n",
    "data['inUS_yes'] = np.where(fulldata['country'] == 217, 1, 0)\n",
    "assert [0, 1] == list(data.inUS_yes.unique())"
   ]
  },
  {
   "cell_type": "code",
   "execution_count": 46,
   "metadata": {
    "collapsed": false
   },
   "outputs": [],
   "source": [
    "nat1 = np.where(data.nat1 == 'United States', 1, 0)\n",
    "nat2 = np.where(data.nat2 == 'United States', 1, 0)\n",
    "nat3 = np.where(data.nat3 == 'United States', 1, 0)\n",
    "data['byUScit_yes'] = nat1 | nat2 | nat3\n",
    "assert [0, 1] == list(data.byUScit_yes.unique())"
   ]
  },
  {
   "cell_type": "code",
   "execution_count": 47,
   "metadata": {
    "collapsed": true
   },
   "outputs": [],
   "source": [
    "data.to_pickle('/data/augiedoebling/pickledGTD')"
   ]
  }
 ],
 "metadata": {
  "kernelspec": {
   "display_name": "Python 3",
   "language": "python",
   "name": "python3"
  },
  "language_info": {
   "codemirror_mode": {
    "name": "ipython",
    "version": 3
   },
   "file_extension": ".py",
   "mimetype": "text/x-python",
   "name": "python",
   "nbconvert_exporter": "python",
   "pygments_lexer": "ipython3",
   "version": "3.5.2"
  }
 },
 "nbformat": 4,
 "nbformat_minor": 2
}
