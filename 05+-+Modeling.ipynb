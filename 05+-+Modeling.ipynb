{
 "cells": [
  {
   "cell_type": "markdown",
   "metadata": {},
   "source": [
    "# Modeling our Data\n",
    "\n",
    "In this notebook we will attempt to model our data and see what kind of patterns we can recognize in this dataset."
   ]
  },
  {
   "cell_type": "code",
   "execution_count": 6,
   "metadata": {
    "collapsed": false
   },
   "outputs": [],
   "source": [
    "import pandas as pd\n",
    "import numpy as np\n",
    "import datetime as dt\n",
    "from altair import *\n",
    "from IPython.display import Image, display"
   ]
  },
  {
   "cell_type": "code",
   "execution_count": 7,
   "metadata": {
    "collapsed": false
   },
   "outputs": [],
   "source": [
    "from sklearn.linear_model import SGDRegressor, Lasso, SGDClassifier\n",
    "from sklearn.metrics import r2_score, accuracy_score\n",
    "from sklearn.cluster import KMeans\n",
    "from sklearn.model_selection import train_test_split"
   ]
  },
  {
   "cell_type": "code",
   "execution_count": 8,
   "metadata": {
    "collapsed": true
   },
   "outputs": [],
   "source": [
    "data = pd.read_pickle('/data/augiedoebling/pickledGTD')"
   ]
  },
  {
   "cell_type": "code",
   "execution_count": 9,
   "metadata": {
    "collapsed": true
   },
   "outputs": [],
   "source": [
    "# list of countries with > 90% of the population who is islamic\n",
    "islamic90 = ['Maldives','Mauritania','Afghanistan','Tunisia','Iran','Western Sahara','Morocco','Tajikistan','Yemen','Iraq','Somalia','Mayotte','Turkey','Azerbaijan','Comoros','Niger','Algeria','Palestine','Saudi Arabia','Djibouti','Sudan','Libya','Uzbekistan','Pakistan','Senegal','Kosovo','Gambia','Mali','Jordan','Turkmenistan','Egypt','Syria']"
   ]
  },
  {
   "cell_type": "markdown",
   "metadata": {},
   "source": [
    "***\n",
    "## Predicting Region"
   ]
  },
  {
   "cell_type": "code",
   "execution_count": 10,
   "metadata": {
    "collapsed": false
   },
   "outputs": [
    {
     "data": {
      "text/html": [
       "<div>\n",
       "<table border=\"1\" class=\"dataframe\">\n",
       "  <thead>\n",
       "    <tr style=\"text-align: right;\">\n",
       "      <th></th>\n",
       "      <th>islamic90</th>\n",
       "      <th>onUS</th>\n",
       "      <th>PERS</th>\n",
       "      <th>CIP</th>\n",
       "      <th>outsidehumanlaw</th>\n",
       "      <th>multiple</th>\n",
       "      <th>suicide</th>\n",
       "      <th>international</th>\n",
       "      <th>fatalities</th>\n",
       "      <th>success</th>\n",
       "    </tr>\n",
       "  </thead>\n",
       "  <tbody>\n",
       "    <tr>\n",
       "      <th>0</th>\n",
       "      <td>0</td>\n",
       "      <td>0</td>\n",
       "      <td>1</td>\n",
       "      <td>1</td>\n",
       "      <td>1</td>\n",
       "      <td>0</td>\n",
       "      <td>0</td>\n",
       "      <td>0</td>\n",
       "      <td>1.0</td>\n",
       "      <td>1</td>\n",
       "    </tr>\n",
       "    <tr>\n",
       "      <th>1</th>\n",
       "      <td>0</td>\n",
       "      <td>0</td>\n",
       "      <td>1</td>\n",
       "      <td>1</td>\n",
       "      <td>1</td>\n",
       "      <td>0</td>\n",
       "      <td>0</td>\n",
       "      <td>1</td>\n",
       "      <td>0.0</td>\n",
       "      <td>1</td>\n",
       "    </tr>\n",
       "    <tr>\n",
       "      <th>2</th>\n",
       "      <td>0</td>\n",
       "      <td>0</td>\n",
       "      <td>1</td>\n",
       "      <td>1</td>\n",
       "      <td>1</td>\n",
       "      <td>0</td>\n",
       "      <td>0</td>\n",
       "      <td>1</td>\n",
       "      <td>1.0</td>\n",
       "      <td>1</td>\n",
       "    </tr>\n",
       "    <tr>\n",
       "      <th>3</th>\n",
       "      <td>0</td>\n",
       "      <td>0</td>\n",
       "      <td>1</td>\n",
       "      <td>1</td>\n",
       "      <td>1</td>\n",
       "      <td>0</td>\n",
       "      <td>0</td>\n",
       "      <td>1</td>\n",
       "      <td>0.0</td>\n",
       "      <td>1</td>\n",
       "    </tr>\n",
       "    <tr>\n",
       "      <th>4</th>\n",
       "      <td>0</td>\n",
       "      <td>0</td>\n",
       "      <td>1</td>\n",
       "      <td>1</td>\n",
       "      <td>1</td>\n",
       "      <td>0</td>\n",
       "      <td>0</td>\n",
       "      <td>1</td>\n",
       "      <td>0.0</td>\n",
       "      <td>1</td>\n",
       "    </tr>\n",
       "  </tbody>\n",
       "</table>\n",
       "</div>"
      ],
      "text/plain": [
       "   islamic90  onUS  PERS  CIP  outsidehumanlaw  multiple  suicide  \\\n",
       "0          0     0     1    1                1         0        0   \n",
       "1          0     0     1    1                1         0        0   \n",
       "2          0     0     1    1                1         0        0   \n",
       "3          0     0     1    1                1         0        0   \n",
       "4          0     0     1    1                1         0        0   \n",
       "\n",
       "   international  fatalities  success  \n",
       "0              0         1.0        1  \n",
       "1              1         0.0        1  \n",
       "2              1         1.0        1  \n",
       "3              1         0.0        1  \n",
       "4              1         0.0        1  "
      ]
     },
     "execution_count": 10,
     "metadata": {},
     "output_type": "execute_result"
    }
   ],
   "source": [
    "Xregion = pd.DataFrame()\n",
    "Xregion['islamic90'] = np.where(data.country.isin(islamic90), 1, 0)\n",
    "Xregion['onUS'] = data.inUS_yes\n",
    "# REMINDER: PERS = Political, Economic, Religious or Social goal\n",
    "Xregion['PERS'] = data.PERS\n",
    "# REMINDER: CIP = goal to Coerse, Intimidate or Publicize an audience\n",
    "Xregion['CIP'] = data.CIP\n",
    "Xregion['outsidehumanlaw'] = data.outsidehumlaw\n",
    "Xregion['multiple'] = data.multiple\n",
    "Xregion['suicide'] = data.suicide\n",
    "Xregion['international'] = data.international.replace(np.nan, 0).astype(int)\n",
    "Xregion['fatalities'] = data.fatalities\n",
    "Xregion['success'] = data.success\n",
    "Xregion.head()"
   ]
  },
  {
   "cell_type": "code",
   "execution_count": 11,
   "metadata": {
    "collapsed": true
   },
   "outputs": [],
   "source": [
    "region = data.region"
   ]
  },
  {
   "cell_type": "code",
   "execution_count": 12,
   "metadata": {
    "collapsed": true
   },
   "outputs": [],
   "source": [
    "Xtrain, Xtest, ytrain, ytest = train_test_split(Xregion, region, test_size=0.20)"
   ]
  },
  {
   "cell_type": "code",
   "execution_count": 17,
   "metadata": {
    "collapsed": true
   },
   "outputs": [],
   "source": [
    "model = SGDClassifier()"
   ]
  },
  {
   "cell_type": "code",
   "execution_count": 14,
   "metadata": {
    "collapsed": false
   },
   "outputs": [],
   "source": [
    "model = model.fit(Xtrain, ytrain)"
   ]
  },
  {
   "cell_type": "code",
   "execution_count": 15,
   "metadata": {
    "collapsed": false
   },
   "outputs": [],
   "source": [
    "ypred = model.predict(Xtest)"
   ]
  },
  {
   "cell_type": "code",
   "execution_count": 16,
   "metadata": {
    "collapsed": false
   },
   "outputs": [
    {
     "data": {
      "text/plain": [
       "0.34874820602774675"
      ]
     },
     "execution_count": 16,
     "metadata": {},
     "output_type": "execute_result"
    }
   ],
   "source": [
    "accuracy_score(ytest, ypred)"
   ]
  },
  {
   "cell_type": "markdown",
   "metadata": {},
   "source": [
    "### Region results\n",
    "\n",
    "The accuracy score I got of 0.34 is actually fairly accurate compared to the 0.083 we could expect from random guessing. Therefore we can conclude this model is doing fairly well. However, we will look at one additional target to see what we can predict there."
   ]
  },
  {
   "cell_type": "markdown",
   "metadata": {},
   "source": [
    "***\n",
    "## Predicting Fatality Count"
   ]
  },
  {
   "cell_type": "code",
   "execution_count": 12,
   "metadata": {
    "collapsed": false
   },
   "outputs": [
    {
     "data": {
      "text/html": [
       "<div>\n",
       "<table border=\"1\" class=\"dataframe\">\n",
       "  <thead>\n",
       "    <tr style=\"text-align: right;\">\n",
       "      <th></th>\n",
       "      <th>islamic90</th>\n",
       "      <th>onUS</th>\n",
       "      <th>PERS</th>\n",
       "      <th>CIP</th>\n",
       "      <th>outsidehumanlaw</th>\n",
       "      <th>multiple</th>\n",
       "      <th>suicide</th>\n",
       "      <th>international</th>\n",
       "      <th>region</th>\n",
       "      <th>success</th>\n",
       "      <th>propvalue</th>\n",
       "      <th>wounded</th>\n",
       "    </tr>\n",
       "  </thead>\n",
       "  <tbody>\n",
       "    <tr>\n",
       "      <th>0</th>\n",
       "      <td>0</td>\n",
       "      <td>0</td>\n",
       "      <td>1</td>\n",
       "      <td>1</td>\n",
       "      <td>1</td>\n",
       "      <td>0</td>\n",
       "      <td>0</td>\n",
       "      <td>0</td>\n",
       "      <td>2</td>\n",
       "      <td>1</td>\n",
       "      <td>0.0</td>\n",
       "      <td>0.0</td>\n",
       "    </tr>\n",
       "    <tr>\n",
       "      <th>1</th>\n",
       "      <td>0</td>\n",
       "      <td>0</td>\n",
       "      <td>1</td>\n",
       "      <td>1</td>\n",
       "      <td>1</td>\n",
       "      <td>0</td>\n",
       "      <td>0</td>\n",
       "      <td>1</td>\n",
       "      <td>1</td>\n",
       "      <td>1</td>\n",
       "      <td>0.0</td>\n",
       "      <td>0.0</td>\n",
       "    </tr>\n",
       "    <tr>\n",
       "      <th>2</th>\n",
       "      <td>0</td>\n",
       "      <td>0</td>\n",
       "      <td>1</td>\n",
       "      <td>1</td>\n",
       "      <td>1</td>\n",
       "      <td>0</td>\n",
       "      <td>0</td>\n",
       "      <td>1</td>\n",
       "      <td>5</td>\n",
       "      <td>1</td>\n",
       "      <td>0.0</td>\n",
       "      <td>0.0</td>\n",
       "    </tr>\n",
       "    <tr>\n",
       "      <th>3</th>\n",
       "      <td>0</td>\n",
       "      <td>0</td>\n",
       "      <td>1</td>\n",
       "      <td>1</td>\n",
       "      <td>1</td>\n",
       "      <td>0</td>\n",
       "      <td>0</td>\n",
       "      <td>1</td>\n",
       "      <td>8</td>\n",
       "      <td>1</td>\n",
       "      <td>0.0</td>\n",
       "      <td>0.0</td>\n",
       "    </tr>\n",
       "    <tr>\n",
       "      <th>4</th>\n",
       "      <td>0</td>\n",
       "      <td>0</td>\n",
       "      <td>1</td>\n",
       "      <td>1</td>\n",
       "      <td>1</td>\n",
       "      <td>0</td>\n",
       "      <td>0</td>\n",
       "      <td>1</td>\n",
       "      <td>4</td>\n",
       "      <td>1</td>\n",
       "      <td>0.0</td>\n",
       "      <td>0.0</td>\n",
       "    </tr>\n",
       "  </tbody>\n",
       "</table>\n",
       "</div>"
      ],
      "text/plain": [
       "   islamic90  onUS  PERS  CIP  outsidehumanlaw  multiple  suicide  \\\n",
       "0          0     0     1    1                1         0        0   \n",
       "1          0     0     1    1                1         0        0   \n",
       "2          0     0     1    1                1         0        0   \n",
       "3          0     0     1    1                1         0        0   \n",
       "4          0     0     1    1                1         0        0   \n",
       "\n",
       "   international  region  success  propvalue  wounded  \n",
       "0              0       2        1        0.0      0.0  \n",
       "1              1       1        1        0.0      0.0  \n",
       "2              1       5        1        0.0      0.0  \n",
       "3              1       8        1        0.0      0.0  \n",
       "4              1       4        1        0.0      0.0  "
      ]
     },
     "execution_count": 12,
     "metadata": {},
     "output_type": "execute_result"
    }
   ],
   "source": [
    "Xfate = pd.DataFrame()\n",
    "Xfate['islamic90'] = np.where(data.country.isin(islamic90), 1, 0)\n",
    "Xfate['onUS'] = data.inUS_yes\n",
    "# REMINDER: PERS = Political, Economic, Religious or Social goal\n",
    "Xfate['PERS'] = data.PERS\n",
    "# REMINDER: CIP = goal to Coerse, Intimidate or Publicize an audience\n",
    "Xfate['CIP'] = data.CIP\n",
    "Xfate['outsidehumanlaw'] = data.outsidehumlaw\n",
    "Xfate['multiple'] = data.multiple\n",
    "Xfate['suicide'] = data.suicide\n",
    "Xfate['international'] = data.international.replace(np.nan, 0).astype(int)\n",
    "Xfate['region'] = data.region_code\n",
    "Xfate['success'] = data.success\n",
    "Xfate['propvalue'] = data.propvalue\n",
    "Xfate['wounded'] = data.wounded\n",
    "Xfate.head()"
   ]
  },
  {
   "cell_type": "code",
   "execution_count": 13,
   "metadata": {
    "collapsed": true
   },
   "outputs": [],
   "source": [
    "fatalities = data.fatalities"
   ]
  },
  {
   "cell_type": "code",
   "execution_count": 14,
   "metadata": {
    "collapsed": false
   },
   "outputs": [],
   "source": [
    "Xtrain, Xtest, ytrain, ytest = train_test_split(Xfate, fatalities, test_size=0.20)"
   ]
  },
  {
   "cell_type": "code",
   "execution_count": 15,
   "metadata": {
    "collapsed": true
   },
   "outputs": [],
   "source": [
    "model = SGDRegressor()"
   ]
  },
  {
   "cell_type": "code",
   "execution_count": 16,
   "metadata": {
    "collapsed": false
   },
   "outputs": [],
   "source": [
    "model = model.fit(Xtrain, ytrain)"
   ]
  },
  {
   "cell_type": "code",
   "execution_count": 17,
   "metadata": {
    "collapsed": true
   },
   "outputs": [],
   "source": [
    "ytrainpred = model.predict(Xtrain)\n",
    "ypred = model.predict(Xtest)"
   ]
  },
  {
   "cell_type": "code",
   "execution_count": 18,
   "metadata": {
    "collapsed": false
   },
   "outputs": [
    {
     "name": "stdout",
     "output_type": "stream",
     "text": [
      "Train r2: -1.99744579558e+47 Test r2: -2.36345614809e+46\n"
     ]
    }
   ],
   "source": [
    "print(\"Train r2:\", r2_score(ytrain, ytrainpred), \"Test r2:\", r2_score(ytest, ypred))"
   ]
  },
  {
   "cell_type": "markdown",
   "metadata": {},
   "source": [
    "That model is not working well, lets try a different regression model."
   ]
  },
  {
   "cell_type": "code",
   "execution_count": 19,
   "metadata": {
    "collapsed": false
   },
   "outputs": [],
   "source": [
    "model = Lasso(alpha=0.01)\n",
    "model = model.fit(Xtrain, ytrain)"
   ]
  },
  {
   "cell_type": "code",
   "execution_count": 20,
   "metadata": {
    "collapsed": true
   },
   "outputs": [],
   "source": [
    "ytrainpred = model.predict(Xtrain)\n",
    "ypred = model.predict(Xtest)"
   ]
  },
  {
   "cell_type": "code",
   "execution_count": 22,
   "metadata": {
    "collapsed": false
   },
   "outputs": [
    {
     "name": "stdout",
     "output_type": "stream",
     "text": [
      "Train r2: 0.0486737152258 Test r2: 0.0680202086616\n"
     ]
    }
   ],
   "source": [
    "print(\"Train r2:\", r2_score(ytrain, ytrainpred), \"Test r2:\", r2_score(ytest, ypred))"
   ]
  },
  {
   "cell_type": "markdown",
   "metadata": {},
   "source": [
    "### Fatalities Results\n",
    "Although the Lasso model worked significantly better than the SGDRegressor, we still can not predict fatality counts with our data."
   ]
  },
  {
   "cell_type": "markdown",
   "metadata": {},
   "source": [
    "***\n",
    "# Modeling Conclusions\n",
    "While we could not predict fatality counts with any sort of accuracy, we were actually pretty successful in predicting region. While a little over 34% is not perfect, it is significantly better than random guessing."
   ]
  },
  {
   "cell_type": "code",
   "execution_count": null,
   "metadata": {
    "collapsed": true
   },
   "outputs": [],
   "source": []
  }
 ],
 "metadata": {
  "kernelspec": {
   "display_name": "Python 3",
   "language": "python",
   "name": "python3"
  },
  "language_info": {
   "codemirror_mode": {
    "name": "ipython",
    "version": 3
   },
   "file_extension": ".py",
   "mimetype": "text/x-python",
   "name": "python",
   "nbconvert_exporter": "python",
   "pygments_lexer": "ipython3",
   "version": "3.5.2"
  }
 },
 "nbformat": 4,
 "nbformat_minor": 2
}
